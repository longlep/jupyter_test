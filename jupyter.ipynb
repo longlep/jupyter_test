{
 "metadata": {
  "language_info": {
   "codemirror_mode": {
    "name": "ipython",
    "version": 3
   },
   "file_extension": ".py",
   "mimetype": "text/x-python",
   "name": "python",
   "nbconvert_exporter": "python",
   "pygments_lexer": "ipython3",
   "version": "3.7.6"
  },
  "orig_nbformat": 2,
  "kernelspec": {
   "name": "python376jvsc74a57bd027de0b3061ada7496b7a60bc2057f81f40c873ec3e0ff1fe56ab82cb9c695af4",
   "display_name": "Python 3.7.6 64-bit ('base': conda)"
  },
  "metadata": {
   "interpreter": {
    "hash": "27de0b3061ada7496b7a60bc2057f81f40c873ec3e0ff1fe56ab82cb9c695af4"
   }
  }
 },
 "nbformat": 4,
 "nbformat_minor": 2,
 "cells": [
  {
   "cell_type": "code",
   "execution_count": 1,
   "metadata": {},
   "outputs": [],
   "source": [
    "import pandas as pd\n",
    "import matplotlib.pyplot as plt\n",
    "import ipywidgets as widgets\n",
    "from ipywidgets import interact, interactive, fixed, interact_manual\n",
    "import numpy as np"
   ]
  },
  {
   "cell_type": "code",
   "execution_count": 2,
   "metadata": {},
   "outputs": [],
   "source": [
    "df = pd.read_csv('snow_depth.csv')"
   ]
  },
  {
   "cell_type": "code",
   "execution_count": 7,
   "metadata": {},
   "outputs": [
    {
     "output_type": "display_data",
     "data": {
      "text/plain": "interactive(children=(Dropdown(description='x', index=1, options=('Name', 'ID', 'State', 'Network', 'County', …",
      "application/vnd.jupyter.widget-view+json": {
       "version_major": 2,
       "version_minor": 0,
       "model_id": "c3f8a18b7e48412e947be2cec757b3f0"
      }
     },
     "metadata": {}
    }
   ],
   "source": [
    "arr = widgets.Dropdown(\n",
    "    options=[col for  col in df.columns],\n",
    "    value='ID',\n",
    "    description='x',\n",
    "    disabled=False,\n",
    ")\n",
    "@ interact(col=arr)\n",
    "def histogram(col):\n",
    "    try:\n",
    "        f, ax1 = plt.subplots()\n",
    "        ax1.hist(df[col], bins=50)\n",
    "        ax1.set_xlabel(col)\n",
    "        plt.show()\n",
    "    except TypeError:\n",
    "        print('NO GRAPH FOR YOU')"
   ]
  },
  {
   "cell_type": "code",
   "execution_count": 8,
   "metadata": {},
   "outputs": [
    {
     "output_type": "display_data",
     "data": {
      "text/plain": "interactive(children=(Dropdown(description='x', index=1, options=('Name', 'ID', 'State', 'Network', 'County', …",
      "application/vnd.jupyter.widget-view+json": {
       "version_major": 2,
       "version_minor": 0,
       "model_id": "5722bea8875e4ed7aa9b0ef9ad773400"
      }
     },
     "metadata": {}
    }
   ],
   "source": [
    "x_arr = widgets.Dropdown(\n",
    "    options=[col for  col in df.columns],\n",
    "    value='ID',\n",
    "    description='x',\n",
    "    disabled=False,\n",
    ")\n",
    "y_arr = widgets.Dropdown(\n",
    "    options=[col for  col in df.columns],\n",
    "    value='ID',\n",
    "    description='y',\n",
    "    disabled=False,\n",
    ")\n",
    "@ interact(xarr=x_arr, yarr=y_arr)\n",
    "def scatter(xarr, yarr):\n",
    "    try:\n",
    "        f, ax1 = plt.subplots()\n",
    "        ax1.scatter(df[xarr], df[yarr])\n",
    "        ax1.set_xlabel(xarr)\n",
    "        ax1.set_ylabel(yarr)\n",
    "        plt.show()\n",
    "    except TypeError:\n",
    "        print('NO GRAPH FOR YOU')"
   ]
  },
  {
   "cell_type": "code",
   "execution_count": null,
   "metadata": {},
   "outputs": [],
   "source": []
  }
 ]
}